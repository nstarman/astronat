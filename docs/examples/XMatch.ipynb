{
 "cells": [
  {
   "cell_type": "markdown",
   "metadata": {},
   "source": [
    "# Crossmatch catalogs"
   ]
  },
  {
   "cell_type": "code",
   "execution_count": 1,
   "metadata": {
    "collapsed": false,
    "inputHidden": false,
    "jupyter": {
     "outputs_hidden": false
    },
    "outputHidden": false
   },
   "outputs": [],
   "source": [
    "\"\"\"\n",
    "    TITLE   : x-match\n",
    "    AUTHOR  : Nathaniel Starkman\n",
    "    PROJECT :\n",
    "\"\"\";\n",
    "\n",
    "__author__ = ''\n",
    "__version__ = ''"
   ]
  },
  {
   "cell_type": "markdown",
   "metadata": {},
   "source": [
    "<span style='font-size:30px;font-weight:650'>\n",
    "    About\n",
    "</span>\n",
    "\n",
    "This is a dev notebook, where the xmatch functions from `starkman_thesis` are built and tested\n"
   ]
  },
  {
   "cell_type": "markdown",
   "metadata": {},
   "source": [
    "<br><br>\n",
    "\n",
    "- - - \n"
   ]
  },
  {
   "cell_type": "markdown",
   "metadata": {},
   "source": [
    "## Prepare"
   ]
  },
  {
   "cell_type": "markdown",
   "metadata": {
    "inputHidden": false,
    "outputHidden": false
   },
   "source": [
    "### Imports"
   ]
  },
  {
   "cell_type": "code",
   "execution_count": 2,
   "metadata": {
    "collapsed": false,
    "inputHidden": false,
    "jupyter": {
     "outputs_hidden": false
    },
    "outputHidden": false
   },
   "outputs": [
    {
     "name": "stdout",
     "output_type": "stream",
     "text": [
      "set autoreload to 1\n",
      "/Users/nathanielstarkman/miniconda3/lib/python3.7/site-packages/astropy/coordinates/builtin_frames/galactocentric.py:373: AstropyDeprecationWarning: In v4.1 and later versions, the Galactocentric frame will adopt default parameters that may update with time. An updated default parameter set is already available through the astropy.coordinates.galactocentric_frame_defaults ScienceState object, as described in but the default is currently still set to the pre-v4.0 parameter defaults. The safest way to guard against changing default parameters in the future is to either (1) specify all Galactocentric frame attributes explicitly when using the frame, or (2) set the galactocentric_frame_defaults parameter set name explicitly. See http://docs.astropy.org/en/latest/coordinates/galactocentric.html for more information.\n",
      "  AstropyDeprecationWarning)\n",
      "\n"
     ]
    }
   ],
   "source": [
    "from utilipy import ipython\n",
    "\n",
    "# ipython.run_imports(base=True, astropy=True, matplotlib=True, verbose_imports=False)\n",
    "# %run \"utilipy.imports.astropy_imports\"\n",
    "\n",
    "# BUILT-IN\n",
    "\n",
    "# THIRD PARTY\n",
    "\n",
    "from astropy import table\n",
    "from astropy import coordinates as coords, units as u\n",
    "from astropy.coordinates import SkyCoord, Distance, EarthLocation, match_coordinates_sky\n",
    "from astropy.coordinates.tests.utils import randomly_sample_sphere\n",
    "from astropy.time import Time\n",
    "\n",
    "import numpy as np\n",
    "\n",
    "# PROJECT-SPECIFIC\n",
    "\n",
    "import starkman_thesis"
   ]
  },
  {
   "cell_type": "markdown",
   "metadata": {},
   "source": [
    "<br><br>\n",
    "\n",
    "- - - \n"
   ]
  },
  {
   "cell_type": "markdown",
   "metadata": {},
   "source": [
    "## Discrete Matches"
   ]
  },
  {
   "cell_type": "code",
   "execution_count": 194,
   "metadata": {},
   "outputs": [
    {
     "data": {
      "text/plain": [
       "array([['blue', 'blue', 'blue', 'blue', 'green', 'green', 'green',\n",
       "        'green', 'green', 'orange'],\n",
       "       ['tag1', 'tag2', 'tag2', 'tag2', 'tag2', 'tag2', 'tag2', 'tag2',\n",
       "        'tag2', 'tag3'],\n",
       "       ['tag1', 'tag1', 'tag1', 'tag1', 'tag1', 'tag1', 'tag1', 'tag1',\n",
       "        'tag1', 'tag1']], dtype=object)"
      ]
     },
     "execution_count": 194,
     "metadata": {},
     "output_type": "execute_result"
    },
    {
     "data": {
      "text/plain": [
       "array([['blue', 'blue', 'orange', 'orange', 'orange', 'green', 'green',\n",
       "        'green', 'green', 'green', 'green', 'purple'],\n",
       "       ['tag1', 'tag1', 'tag1', 'tag1', 'tag2', 'tag2', 'tag2', 'tag2',\n",
       "        'tag2', 'tag2', 'tag3', 'tag3'],\n",
       "       ['tag2', 'tag1', 'tag1', 'tag1', 'tag1', 'tag1', 'tag1', 'tag1',\n",
       "        'tag1', 'tag1', 'tag1', 'tag1']], dtype=object)"
      ]
     },
     "execution_count": 194,
     "metadata": {},
     "output_type": "execute_result"
    }
   ],
   "source": [
    "cat0 = table.Table()\n",
    "cat0[\"color\"] = [\"blue\"] * 4 + [\"green\"] * (10 - 5) + [\"orange\"]\n",
    "cat0[\"id\"] = [\"tag1\"] * 1 + [\"tag2\"] * (len(cat0[\"color\"]) - 2) + [\"tag3\"]\n",
    "cat0[\"id2\"] = [\"tag1\"] * 10\n",
    "\n",
    "cat1 = table.Table()\n",
    "cat1[\"color\"] = [\"blue\"] * 2 + [\"orange\"] * 3 + [\"green\"] * (12 - 6) + [\"purple\"]\n",
    "cat1[\"id\"] = [\"tag1\"] * 4 + [\"tag2\"] * (len(cat1[\"color\"]) - 6) + [\"tag3\"]*2\n",
    "cat1[\"id2\"] = [\"tag2\"] + [\"tag1\"] * 11\n",
    "\n",
    "cat0.to_pandas().values.T\n",
    "cat1.to_pandas().values.T\n"
   ]
  },
  {
   "cell_type": "code",
   "execution_count": 95,
   "metadata": {},
   "outputs": [
    {
     "data": {
      "text/plain": [
       "array([ True,  True,  True,  True,  True,  True,  True,  True,  True,\n",
       "        True,  True, False])"
      ]
     },
     "execution_count": 95,
     "metadata": {},
     "output_type": "execute_result"
    },
    {
     "data": {
      "text/plain": [
       "(11,)"
      ]
     },
     "execution_count": 95,
     "metadata": {},
     "output_type": "execute_result"
    },
    {
     "data": {
      "text/plain": [
       "array([['blue', 'blue', 'orange', 'orange', 'orange', 'green', 'green',\n",
       "        'green', 'green', 'green', 'green'],\n",
       "       ['tag1', 'tag1', 'tag1', 'tag1', 'tag2', 'tag2', 'tag2', 'tag2',\n",
       "        'tag2', 'tag2', 'tag3'],\n",
       "       ['tag2', 'tag1', 'tag1', 'tag1', 'tag1', 'tag1', 'tag1', 'tag1',\n",
       "        'tag1', 'tag1', 'tag1']], dtype=object)"
      ]
     },
     "execution_count": 95,
     "metadata": {},
     "output_type": "execute_result"
    }
   ],
   "source": [
    "u0 = np.unique(np.array(cat0[\"color\"]))\n",
    "\n",
    "# first do with only fields=[\"color\"]\n",
    "# will weed out all stuff in cat1 that's not in cat0\n",
    "idx10 = cat1[\"color\"] == u0[:, None]\n",
    "\n",
    "idx0 = True\n",
    "idx1 = np.sum(idx10, axis=0, dtype=bool)\n",
    "idx1\n",
    "\n",
    "# cat0[idx0]\n",
    "np.shape(cat1[idx1])  # should be N-1=11\n",
    "cat1[idx1].to_pandas().values.T"
   ]
  },
  {
   "cell_type": "code",
   "execution_count": 96,
   "metadata": {},
   "outputs": [
    {
     "data": {
      "text/plain": [
       "(6,)"
      ]
     },
     "execution_count": 96,
     "metadata": {},
     "output_type": "execute_result"
    },
    {
     "data": {
      "text/plain": [
       "array([['blue', 'green', 'green', 'green', 'green', 'green'],\n",
       "       ['tag1', 'tag2', 'tag2', 'tag2', 'tag2', 'tag2'],\n",
       "       ['tag1', 'tag1', 'tag1', 'tag1', 'tag1', 'tag1']], dtype=object)"
      ]
     },
     "execution_count": 96,
     "metadata": {},
     "output_type": "execute_result"
    }
   ],
   "source": [
    "# Now all fields\n",
    "u1 = np.unique(np.array(cat0[\"id\"]))\n",
    "u2 = np.unique(np.array(cat0[\"id2\"]))\n",
    "\n",
    "idx11 = cat1[\"id\"] == u1[:, None]\n",
    "idx12 = cat1[\"id2\"] == u2[:, None]\n",
    "\n",
    "idx0 = True\n",
    "idx1 = np.sum(idx10 & idx11 & idx12, axis=0, dtype=bool)\n",
    "\n",
    "np.shape(cat1[idx1])  # should be N-1=11\n",
    "cat1[idx1].to_pandas().values.T\n"
   ]
  },
  {
   "cell_type": "markdown",
   "metadata": {},
   "source": [
    "but the problem is that there are stuff in catalog 0 that are not in catalog 1\n",
    "Now that we've sifted out all the stuff that are in catalog 1 that are not in 0,\n",
    "we need to do the reverse.\n",
    "\n",
    "The general procedure is\n",
    "\n",
    "(cat0 <- cat1, 2, 3, 4, 5) comparison\n",
    "cat1 <- cat0 copmarison to filter out non-matches in cat0\n"
   ]
  },
  {
   "cell_type": "code",
   "execution_count": 204,
   "metadata": {},
   "outputs": [
    {
     "data": {
      "text/plain": [
       "array([['blue', 'blue', 'blue', 'blue', 'green', 'green', 'green',\n",
       "        'green', 'green', 'orange'],\n",
       "       ['tag1', 'tag2', 'tag2', 'tag2', 'tag2', 'tag2', 'tag2', 'tag2',\n",
       "        'tag2', 'tag3'],\n",
       "       ['tag1', 'tag1', 'tag1', 'tag1', 'tag1', 'tag1', 'tag1', 'tag1',\n",
       "        'tag1', 'tag1']], dtype=object)"
      ]
     },
     "execution_count": 204,
     "metadata": {},
     "output_type": "execute_result"
    },
    {
     "data": {
      "text/plain": [
       "array([['blue', 'green', 'green', 'green', 'green', 'green'],\n",
       "       ['tag1', 'tag2', 'tag2', 'tag2', 'tag2', 'tag2'],\n",
       "       ['tag1', 'tag1', 'tag1', 'tag1', 'tag1', 'tag1']], dtype=object)"
      ]
     },
     "execution_count": 204,
     "metadata": {},
     "output_type": "execute_result"
    }
   ],
   "source": [
    "import functools\n",
    "def _match_two_catalogs_indices(match_from, other, fields: list):\n",
    "    \"\"\"\n",
    "    \n",
    "    Parameters\n",
    "    ----------\n",
    "    match_from : Table\n",
    "        the catalog to match from, only values in the field (from `fields`) are\n",
    "        permitted in the\n",
    "    other : Table\n",
    "        match this against `match_from`\n",
    "    fields : list\n",
    "        list of fields to match\n",
    "\n",
    "    Notes\n",
    "    -----\n",
    "    try more axes tricks to avoid for loops (``cat1.to_pandas().values[:, :, None]``)\n",
    "    the difficulty is that the \"unique\" arrays can be different lengths\n",
    "    but these can be extended to be equal length, filled with empty value\n",
    "    \n",
    "    \"\"\"\n",
    "    # uniques for each field\n",
    "    uns = (np.unique(np.array(match_from[n])) for n in fields)\n",
    "\n",
    "    # indices into cat1\n",
    "    # loop over fields  TODO vectorize ?\n",
    "    idxs = (other[n] == un[:, None] for n, un in zip(fields, uns))\n",
    "    # get combined index\n",
    "    idx = np.sum(functools.reduce(np.logical_and, idxs), axis=0, dtype=bool)\n",
    "\n",
    "    return idx\n",
    "\n",
    "def match_catalogs_indices(*catalogs, fields):\n",
    "    idxs = [_match_two_catalogs_indices(catalogs[0], c, fields=fields)\n",
    "            for c in catalogs[1:]]  # TODO with numpy\n",
    "    # and need to do once in reverse on the source catalog\n",
    "    idx0 = _match_two_catalogs(catalogs[1][idxs[0]], catalogs[0], fields)\n",
    "    idxs.insert(0, idx0)\n",
    "\n",
    "    return idx\n",
    "\n",
    "def match_catalogs(*catalogs, fields):\n",
    "    idxs = match_catalogs_indices(*catalogs, fields)\n",
    "    cat_matches = [catalog[idx] for catalog, idx in zip(catalogs, idxs)]\n",
    "    return cat_matches\n",
    "# /def\n",
    "\n",
    "idx = match_catalogs_indices(cat0, cat1, cat2, fields=[\"color\", \"id\", \"id2\"])\n",
    "\n",
    "cat0.to_pandas().values.T\n",
    "cat0[idx[0]].to_pandas().values.T\n",
    "# cat1.to_pandas().values.T\n",
    "# cat1[idx[1]]\n",
    "# cat2[idx[2]]"
   ]
  },
  {
   "cell_type": "markdown",
   "metadata": {},
   "source": [
    "Now 3 catalogs"
   ]
  },
  {
   "cell_type": "code",
   "execution_count": 98,
   "metadata": {},
   "outputs": [
    {
     "data": {
      "text/plain": [
       "array([['blue', 'blue', 'orange', 'orange', 'orange', 'orange', 'purple',\n",
       "        'green', 'green', 'green', 'green', 'green'],\n",
       "       ['tag1', 'tag1', 'tag1', 'tag1', 'tag2', 'tag2', 'tag2', 'tag2',\n",
       "        'tag2', 'tag2', 'tag3', 'tag3'],\n",
       "       ['tag2', 'tag1', 'tag1', 'tag1', 'tag1', 'tag1', 'tag1', 'tag1',\n",
       "        'tag1', 'tag1', 'tag1', 'tag1']], dtype=object)"
      ]
     },
     "execution_count": 98,
     "metadata": {},
     "output_type": "execute_result"
    }
   ],
   "source": [
    "cat2 = table.Table()\n",
    "cat2[\"color\"] = [\"blue\"] * 2 + [\"orange\"] * 4 + [\"purple\"] + [\"green\"] * (12 - 7)\n",
    "cat2[\"id\"] = [\"tag1\"] * 4 + [\"tag2\"] * (len(cat1[\"color\"]) - 6) + [\"tag3\"]*2\n",
    "cat2[\"id2\"] = [\"tag2\"] + [\"tag1\"] * 11\n",
    "\n",
    "cat2.to_pandas().values.T"
   ]
  },
  {
   "cell_type": "code",
   "execution_count": 101,
   "metadata": {},
   "outputs": [
    {
     "data": {
      "text/plain": [
       "array([['blue', 'green', 'green', 'green'],\n",
       "       ['tag1', 'tag2', 'tag2', 'tag2'],\n",
       "       ['tag1', 'tag1', 'tag1', 'tag1']], dtype=object)"
      ]
     },
     "execution_count": 101,
     "metadata": {},
     "output_type": "execute_result"
    }
   ],
   "source": [
    "# just going against catalog 1\n",
    "idx20 = cat2[\"color\"] == u0[:, None]\n",
    "idx21 = cat2[\"id\"] == u1[:, None]\n",
    "idx22 = cat2[\"id2\"] == u2[:, None]\n",
    "idx2 = np.sum(idx20 & idx21 & idx22, axis=0, dtype=bool)\n",
    "\n",
    "# lets also go against catalog 2\n",
    "\n",
    "cat2[idx2].to_pandas().values.T"
   ]
  },
  {
   "cell_type": "code",
   "execution_count": 102,
   "metadata": {},
   "outputs": [
    {
     "data": {
      "text/plain": [
       "[array([[ True,  True, False, False, False, False, False, False, False,\n",
       "         False, False, False],\n",
       "        [False, False, False, False, False, False, False,  True,  True,\n",
       "          True,  True,  True],\n",
       "        [False, False,  True,  True,  True,  True, False, False, False,\n",
       "         False, False, False]]),\n",
       " array([[ True,  True,  True,  True, False, False, False, False, False,\n",
       "         False, False, False],\n",
       "        [False, False, False, False,  True,  True,  True,  True,  True,\n",
       "          True, False, False],\n",
       "        [False, False, False, False, False, False, False, False, False,\n",
       "         False,  True,  True]]),\n",
       " array([[False,  True,  True,  True,  True,  True,  True,  True,  True,\n",
       "          True,  True,  True]])]"
      ]
     },
     "execution_count": 102,
     "metadata": {},
     "output_type": "execute_result"
    }
   ],
   "source": [
    "t = [idx20, idx21, idx22]\n",
    "t"
   ]
  },
  {
   "cell_type": "code",
   "execution_count": null,
   "metadata": {},
   "outputs": [],
   "source": [
    "raise ValueError"
   ]
  },
  {
   "cell_type": "markdown",
   "metadata": {},
   "source": [
    "## Code"
   ]
  },
  {
   "cell_type": "markdown",
   "metadata": {},
   "source": [
    "Observation Time"
   ]
  },
  {
   "cell_type": "code",
   "execution_count": null,
   "metadata": {},
   "outputs": [],
   "source": [
    "ra, dec, _ = randomly_sample_sphere(1000)\n",
    "pm_ra_cosdec=np.ones_like(ra.value) * 10 * u.mas / u.yr\n",
    "pm_dec=np.ones_like(dec.value) * u.mas / u.yr\n",
    "time = Time('2001-03-22 00:01:44.732327132980', scale='utc')\n",
    "data = coords.ICRS(ra=ra, dec=dec, pm_ra_cosdec=pm_ra_cosdec, pm_dec=pm_dec)\n",
    "cs = SkyCoord(data, obstime=time)\n",
    "cs[:10]"
   ]
  },
  {
   "cell_type": "markdown",
   "metadata": {},
   "source": [
    "Compute the position of the source represented by this coordinate object\n",
    "to a new time using the velocities stored in this object and assuming\n",
    "linear space motion (including relativistic corrections). This is\n",
    "sometimes referred to as an \"epoch transformation.\"\n",
    "\n",
    "The initial time before the evolution is taken from the ``obstime``\n",
    "attribute of this coordinate.  Note that this method currently does not\n",
    "support evolving coordinates where the *frame* has an ``obstime`` frame\n",
    "attribute, so the ``obstime`` is only used for storing the before and\n",
    "after times, not actually as an attribute of the frame. Alternatively,\n",
    "if ``dt`` is given, an ``obstime`` need not be provided at all."
   ]
  },
  {
   "cell_type": "code",
   "execution_count": null,
   "metadata": {},
   "outputs": [],
   "source": [
    "res = SkyCoord.apply_space_motion(cs, new_obstime=Time.now())\n",
    "res[:10]"
   ]
  },
  {
   "cell_type": "markdown",
   "metadata": {},
   "source": [
    "## Example"
   ]
  },
  {
   "cell_type": "code",
   "execution_count": null,
   "metadata": {},
   "outputs": [],
   "source": [
    "result_tgas = dict(ra=66.44280212823296,\n",
    "                   dec=-69.99366255906372,\n",
    "                   parallax=22.764078749733947,\n",
    "                   pmra=144.91354358297048,\n",
    "                   pmdec=5.445648092997134,\n",
    "                   ref_epoch=2015.0,\n",
    "                   phot_g_mean_mag=7.657174523348196)\n",
    "\n",
    "result_2mass = dict(RAJ2000=[66.421970000000002, 66.433521999999996,\n",
    "                             66.420564999999996, 66.485068999999996,\n",
    "                             66.467928999999998, 66.440815000000001,\n",
    "                             66.440454000000003],\n",
    "                    DEJ2000=[-70.003722999999994, -69.990768000000003,\n",
    "                             -69.992255999999998, -69.994881000000007,\n",
    "                             -69.994926000000007, -69.993613999999994,\n",
    "                             -69.990836999999999],\n",
    "                    Jmag=[16.35, 13.663, 16.171, 16.184, 16.292,\n",
    "                          6.6420002, 12.275],\n",
    "                    Hmag=[15.879, 13.955, 15.154, 15.856, 15.642,\n",
    "                          6.3660002, 12.185],\n",
    "                    Kmag=[15.581, 14.238, 14.622, 15.398, 15.123,\n",
    "                          6.2839999, 12.106],\n",
    "                    Date=['1998-10-24', '1998-10-24', '1998-10-24',\n",
    "                          '1998-10-24', '1998-10-24', '1998-10-24',\n",
    "                          '1998-10-24'])"
   ]
  },
  {
   "cell_type": "code",
   "execution_count": null,
   "metadata": {},
   "outputs": [],
   "source": [
    "c = SkyCoord(ra=result_tgas['ra'] * u.deg,\n",
    "             dec=result_tgas['dec'] * u.deg,\n",
    "             distance=Distance(parallax=result_tgas['parallax'] * u.mas),\n",
    "             pm_ra_cosdec=result_tgas['pmra'] * u.mas/u.yr,\n",
    "             pm_dec=result_tgas['pmdec'] * u.mas/u.yr,\n",
    "             obstime=Time(result_tgas['ref_epoch'], format='decimalyear')\n",
    ")"
   ]
  },
  {
   "cell_type": "code",
   "execution_count": null,
   "metadata": {},
   "outputs": [],
   "source": [
    "catalog_2mass = SkyCoord(ra=result_2mass['RAJ2000'] * u.deg,\n",
    "                         dec=result_2mass['DEJ2000'] * u.deg,\n",
    "                         obstime=Time(result_2mass['Date'][0]))"
   ]
  },
  {
   "cell_type": "code",
   "execution_count": null,
   "metadata": {},
   "outputs": [],
   "source": [
    "c_2mass_epoch = SkyCoord.apply_space_motion(c, catalog_2mass.obstime)\n",
    "c_2mass_epoch, c_2mass_epoch.obstime"
   ]
  },
  {
   "cell_type": "code",
   "execution_count": null,
   "metadata": {},
   "outputs": [],
   "source": [
    "starkman_thesis.utils.data.xmatch.xmatch_coords(c_2mass_epoch, catalog_2mass)  # obstime=Time.now()"
   ]
  },
  {
   "cell_type": "code",
   "execution_count": null,
   "metadata": {},
   "outputs": [],
   "source": [
    "x = table.Table({k: getattr(catalog_2mass, k) for k in catalog_2mass.get_representation_component_names().keys()})\n",
    "del x[\"distance\"]\n",
    "x.meta[\"obstime\"] = catalog_2mass.obstime"
   ]
  },
  {
   "cell_type": "code",
   "execution_count": null,
   "metadata": {},
   "outputs": [],
   "source": [
    "c1, c2, info = starkman_thesis.utils.data.xmatch.xmatch_coords(c, x, obstime=x.meta[\"obstime\"])"
   ]
  },
  {
   "cell_type": "code",
   "execution_count": null,
   "metadata": {},
   "outputs": [],
   "source": []
  },
  {
   "cell_type": "code",
   "execution_count": null,
   "metadata": {},
   "outputs": [],
   "source": []
  },
  {
   "cell_type": "markdown",
   "metadata": {},
   "source": [
    "## Problems With Duplicates"
   ]
  },
  {
   "cell_type": "code",
   "execution_count": null,
   "metadata": {},
   "outputs": [],
   "source": [
    "sc1 = coords.ICRS(*randomly_sample_sphere(10, randomseed=0))\n",
    "sc2 = coords.ICRS(*randomly_sample_sphere(12, randomseed=1))"
   ]
  },
  {
   "cell_type": "code",
   "execution_count": null,
   "metadata": {},
   "outputs": [],
   "source": [
    "cat1 = table.Table()\n",
    "cat1[\"ra\"] = sc1.ra\n",
    "cat1[\"dec\"] = sc1.dec\n",
    "cat1[\"color\"] = [\"blue\"] * 4 + [\"green\"] * (len(sc1) - 5) + [\"orange\"]\n",
    "\n",
    "cat2 = table.Table()\n",
    "cat2[\"ra\"] = sc2.ra\n",
    "cat2[\"dec\"] = sc2.dec\n",
    "cat2[\"color\"] = [\"blue\"] * 2 + [\"orange\"] * 3 + [\"green\"] * (len(sc2) - 5)\n",
    "\n",
    "cat1\n",
    "cat2"
   ]
  },
  {
   "cell_type": "code",
   "execution_count": null,
   "metadata": {},
   "outputs": [],
   "source": [
    "mc1, mc2, info = starkman_thesis.utils.data.xmatch.xmatch(cat1, cat2, maxdist=40*u.deg, match_fields=\"color\")\n",
    "mc1"
   ]
  },
  {
   "cell_type": "code",
   "execution_count": null,
   "metadata": {},
   "outputs": [],
   "source": [
    "field = \"color\"\n",
    "values_cat1 = np.array(cat1[field])\n",
    "len_vc1 = len(values_cat1)\n",
    "values_cat2 = np.array(cat2[field])\n",
    "len_vc2 = len(values_cat2)\n",
    "\n",
    "uniques = np.unique(values_cat1)\n",
    "\n",
    "# sep = np.ones(len_vc1) * -1.0\n",
    "# idx1 = -np.ones(len_vc1, dtype=int)\n",
    "# idx2 = -np.ones(len_vc2, dtype=int)\n",
    "idx1 = []\n",
    "idx2 = []\n",
    "info = {\"sep2d\": [], \"dist3d\": []}\n",
    "for unique in uniques:\n",
    "    print(unique)\n",
    "    idx_1 = np.arange(len_vc1)[values_cat1 == unique]\n",
    "    idx_2 = np.arange(len_vc2)[values_cat2 == unique]\n",
    "\n",
    "    # the case where a class only exists in one but not the other\n",
    "    if (idx_1.shape[0] == 0 or idx_2.shape[0] == 0):\n",
    "        continue\n",
    "        \n",
    "    temp_sc1_idx, temp_sc2_idx, temp_info = starkman_thesis.utils.data.xmatch.xmatch_coords_indices(sc1[idx_1], sc2[idx_2], maxdist=40*u.deg)\n",
    "\n",
    "    idx1.extend(idx_1[temp_sc1_idx])\n",
    "    idx2.extend(idx_2[temp_sc2_idx])\n",
    "\n",
    "    info[\"sep2d\"].extend(temp_info.get(\"sep2d\", []))\n",
    "    info[\"dist3d\"].extend(temp_info.get(\"dist3d\", []))\n",
    "    print(idx_1[temp_sc1_idx])\n",
    "\n",
    "idx1 = np.array(idx1)\n",
    "idx1 = idx1[idx1>=0]\n",
    "idx2 = np.array(idx2)\n",
    "idx2 = idx2[idx2>=0]\n",
    "info[\"sep2d\"] = coords.Angle(info[\"sep2d\"])\n",
    "info[\"dist3d\"] = u.Quantity(info[\"dist3d\"])\n",
    "\n",
    "info\n",
    "cat1[idx1]\n",
    "cat1[idx1]"
   ]
  },
  {
   "cell_type": "code",
   "execution_count": null,
   "metadata": {},
   "outputs": [],
   "source": [
    "i, sep2d, sep3d = coords.match_coordinates_sky(sc1[idx_1], sc2[idx_2])\n",
    "midx = np.where(sep2d < 40 * u.deg)[0]\n",
    "\n",
    "sc1[idx_1][midx].separation(sc2[idx_2][i][midx])"
   ]
  },
  {
   "cell_type": "markdown",
   "metadata": {},
   "source": [
    "<br><br>\n",
    "\n",
    "- - - \n",
    "- - - \n",
    "\n",
    "<span style='font-size:40px;font-weight:650'>\n",
    "    END\n",
    "</span>"
   ]
  }
 ],
 "metadata": {
  "kernel_info": {
   "name": "utilipy"
  },
  "kernelspec": {
   "display_name": "Python 3.7.3 64-bit ('base': conda)",
   "language": "python",
   "name": "python37364bitbaseconda6578cf6fdcb7435fb34bfe59e8478bf6"
  },
  "language_info": {
   "codemirror_mode": {
    "name": "ipython",
    "version": 3
   },
   "file_extension": ".py",
   "mimetype": "text/x-python",
   "name": "python",
   "nbconvert_exporter": "python",
   "pygments_lexer": "ipython3",
   "version": "3.7.4"
  },
  "nteract": {
   "version": "0.22.4"
  }
 },
 "nbformat": 4,
 "nbformat_minor": 4
}
