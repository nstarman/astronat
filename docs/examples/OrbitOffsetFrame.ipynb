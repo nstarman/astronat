{
 "cells": [
  {
   "cell_type": "markdown",
   "metadata": {},
   "source": [
    "# Creating and Using `OrbitSkyOffSetFrame`"
   ]
  },
  {
   "cell_type": "code",
   "execution_count": 1,
   "metadata": {
    "collapsed": false,
    "inputHidden": false,
    "jupyter": {
     "outputs_hidden": false
    },
    "outputHidden": false
   },
   "outputs": [],
   "source": [
    "\"\"\"\n",
    "    TITLE   : Creating and Using `OrbitOffSetFrame`\n",
    "    AUTHOR  : Nathaniel Starkman\n",
    "    PROJECT : Astronat tutorials\n",
    "\"\"\";\n",
    "\n",
    "__author__ = 'Nathaniel Starkman'\n",
    "__version__ = 'May 13, 2020'"
   ]
  },
  {
   "cell_type": "markdown",
   "metadata": {},
   "source": [
    "<span style='font-size:30px;font-weight:650'>\n",
    "    About\n",
    "</span>\n",
    "<br><br>\n",
    "\n",
    "Pseudo Reference Frames for positions relative to an orbit.\n"
   ]
  },
  {
   "cell_type": "code",
   "execution_count": 2,
   "metadata": {},
   "outputs": [
    {
     "name": "stdout",
     "output_type": "stream",
     "text": [
      "set autoreload to 1\n",
      "/Users/nathanielstarkman/miniconda3/lib/python3.7/site-packages/astropy/coordinates/builtin_frames/galactocentric.py:373: AstropyDeprecationWarning: In v4.1 and later versions, the Galactocentric frame will adopt default parameters that may update with time. An updated default parameter set is already available through the astropy.coordinates.galactocentric_frame_defaults ScienceState object, as described in but the default is currently still set to the pre-v4.0 parameter defaults. The safest way to guard against changing default parameters in the future is to either (1) specify all Galactocentric frame attributes explicitly when using the frame, or (2) set the galactocentric_frame_defaults parameter set name explicitly. See http://docs.astropy.org/en/latest/coordinates/galactocentric.html for more information.\n",
      "  AstropyDeprecationWarning)\n",
      "\n"
     ]
    }
   ],
   "source": [
    "# First some imports\n",
    "\n",
    "from utilipy import ipython  # Shameless plug\n",
    "\n",
    "import astropy.coordinates as coords\n",
    "from astropy.coordinates import SkyCoord\n",
    "import astropy.units as u\n",
    "\n",
    "import matplotlib.pyplot as plt\n",
    "import numpy as np\n",
    "\n",
    "from galpy.orbit import Orbit\n",
    "from galpy.potential import MWPotential2014\n",
    "\n",
    "ipython.aimport(\"starkman_thesis\")\n",
    "from starkman_thesis import coordinates"
   ]
  },
  {
   "cell_type": "code",
   "execution_count": 3,
   "metadata": {},
   "outputs": [],
   "source": [
    "# ensure clean environment by removing any caches.\n",
    "starkman_thesis.coordinates.builtin_frames.orbitoffset._orbitoffset_cache.clear()"
   ]
  },
  {
   "cell_type": "markdown",
   "metadata": {},
   "source": [
    "<br><br>\n",
    "\n",
    "- - - \n"
   ]
  },
  {
   "cell_type": "markdown",
   "metadata": {},
   "source": [
    "## Load in Some Data"
   ]
  },
  {
   "cell_type": "code",
   "execution_count": 4,
   "metadata": {},
   "outputs": [],
   "source": [
    "# Pal 5 position\n",
    "pos = starkman_thesis.streams.pal5.data.Pal5latest"
   ]
  },
  {
   "cell_type": "code",
   "execution_count": 5,
   "metadata": {},
   "outputs": [
    {
     "data": {
      "text/plain": [
       "TableList with 2 tables:\n",
       "\t'0:J/AJ/158/223/table2' with 16 column(s) and 3300 row(s) \n",
       "\t'1:objs' with 11 column(s) and 135 row(s) "
      ]
     },
     "execution_count": 5,
     "metadata": {},
     "output_type": "execute_result"
    },
    {
     "data": {
      "text/html": [
       "<i>QTable length=3</i>\n",
       "<table id=\"table4729748496\" class=\"table-striped table-bordered table-condensed\">\n",
       "<thead><tr><th>RA</th><th>DE</th><th>Dist</th><th>pmRA</th><th>pmDE</th><th>Vlos</th></tr></thead>\n",
       "<thead><tr><th>deg</th><th>deg</th><th>kpc</th><th>mas / yr</th><th>mas / yr</th><th>km / s</th></tr></thead>\n",
       "<thead><tr><th>float64</th><th>float64</th><th>float32</th><th>float32</th><th>float32</th><th>float64</th></tr></thead>\n",
       "<tr><td>229.039575298</td><td>-0.273152598</td><td>21.24</td><td>-2.893</td><td>-2.692</td><td>0.0</td></tr>\n",
       "<tr><td>228.992666258</td><td>-0.096598048</td><td>20.73</td><td>-2.812</td><td>-2.654</td><td>0.0</td></tr>\n",
       "<tr><td>226.199350587</td><td>-3.377018582</td><td>19.82</td><td>-2.705</td><td>-3.080</td><td>0.0</td></tr>\n",
       "</table>"
      ],
      "text/plain": [
       "<QTable length=3>\n",
       "      RA            DE        Dist    pmRA     pmDE     Vlos \n",
       "     deg           deg        kpc   mas / yr mas / yr  km / s\n",
       "   float64       float64    float32 float32  float32  float64\n",
       "------------- ------------- ------- -------- -------- -------\n",
       "229.039575298  -0.273152598   21.24   -2.893   -2.692     0.0\n",
       "228.992666258  -0.096598048   20.73   -2.812   -2.654     0.0\n",
       "226.199350587  -3.377018582   19.82   -2.705   -3.080     0.0"
      ]
     },
     "execution_count": 5,
     "metadata": {},
     "output_type": "execute_result"
    }
   ],
   "source": [
    "# RR-Lyrae data\n",
    "tables = starkman_thesis.streams.pal5.data.get_data(table=\"PriceWhelanEtAl2019\")\n",
    "tables\n",
    "\n",
    "# select actual stream-member stars\n",
    "sel = tables[0][\"Memb\"] > 0.9\n",
    "data = tables[0][sel]\n",
    "\n",
    "# build phase-space table\n",
    "vxvv = data[\"RA\", \"DE\", \"Dist\", \"pmRA\", \"pmDE\"]\n",
    "vxvv[\"Vlos\"] = 0 * u.km / u.s\n",
    "vxvv[:3]"
   ]
  },
  {
   "cell_type": "code",
   "execution_count": 6,
   "metadata": {},
   "outputs": [
    {
     "name": "stdout",
     "output_type": "stream",
     "text": [
      "/Users/nathanielstarkman/miniconda3/lib/python3.7/site-packages/astropy/units/equivalencies.py:88: RuntimeWarning: divide by zero encountered in true_divide\n",
      "  d = 1 / x\n",
      "\n",
      "/Users/nathanielstarkman/miniconda3/lib/python3.7/site-packages/astropy/units/quantity.py:481: RuntimeWarning: divide by zero encountered in true_divide\n",
      "  result = super().__array_ufunc__(function, method, *arrays, **kwargs)\n",
      "\n"
     ]
    }
   ],
   "source": [
    "# build phase-space error table\n",
    "\n",
    "e_Dist = data[\"Plx\"].to(u.kpc, equivalencies=u.parallax()) * (data[\"e_Plx\"] / data[\"Plx\"])\n",
    "sel_dist = np.isfinite(e_Dist)\n",
    "\n",
    "vxvv_err = data[\"e_RA\", \"e_DE\"]\n",
    "vxvv_err[\"e_Dist\"] = e_Dist\n",
    "vxvv_err[\"e_pmRA\"] = data[\"e_pmRA\"]\n",
    "vxvv_err[\"e_pmDE\"] = data[\"e_pmDE\"]\n",
    "vxvv_err[\"e_Vlos\"] = np.inf * u.km / u.s\n",
    "\n",
    "vxvv = vxvv[sel_dist]  # need to modify vxvv table b/c Nans :(\n",
    "vxvv_err = vxvv_err[sel_dist]"
   ]
  },
  {
   "cell_type": "markdown",
   "metadata": {},
   "source": [
    "Make Orbits"
   ]
  },
  {
   "cell_type": "code",
   "execution_count": 7,
   "metadata": {},
   "outputs": [],
   "source": [
    "# forward\n",
    "o_fwd = Orbit(vxvv=pos.vxvv)\n",
    "t_fwd = np.linspace(0, 100, num=10000) * u.Myr\n",
    "o_fwd.integrate(t=t_fwd, pot=MWPotential2014)\n",
    "sc_fwd = o_fwd.SkyCoord(t_fwd)\n",
    "\n",
    "# backward\n",
    "o_bkw = Orbit(vxvv=pos.vxvv)\n",
    "t_bkw = np.linspace(0, -100, num=10000) * u.Myr\n",
    "o_bkw.integrate(t=t_bkw, pot=MWPotential2014)\n",
    "sc_bkw = o_bkw.SkyCoord(t_bkw[::-1])"
   ]
  },
  {
   "cell_type": "code",
   "execution_count": 8,
   "metadata": {},
   "outputs": [
    {
     "data": {
      "image/png": "[encoded data removed]",
      "text/plain": [
       "<Figure size 432x288 with 1 Axes>"
      ]
     },
     "metadata": {
      "image/png": {
       "height": 267,
       "width": 411
      },
      "needs_background": "light"
     },
     "output_type": "display_data"
    }
   ],
   "source": [
    "o_fwd.plot(d1='ra', d2='dec', c='k')\n",
    "o_bkw.plot(d1='ra', d2='dec', c='k', overplot=True)\n",
    "\n",
    "plt.scatter(data[\"RA\"], data[\"DE\"], s=20, c='blue')\n",
    "plt.xlim((225, 242))\n",
    "plt.ylim((-10, 10))\n",
    "plt.show();"
   ]
  },
  {
   "cell_type": "markdown",
   "metadata": {},
   "source": [
    "## Orbit Offsets"
   ]
  },
  {
   "cell_type": "code",
   "execution_count": 9,
   "metadata": {},
   "outputs": [],
   "source": [
    "vxvv_sc = SkyCoord(ra=vxvv[\"RA\"], dec=vxvv[\"DE\"],\n",
    "             distance=vxvv[\"Dist\"]\n",
    ")"
   ]
  },
  {
   "cell_type": "code",
   "execution_count": 10,
   "metadata": {},
   "outputs": [
    {
     "data": {
      "image/png": "[encoded data removed]",
      "text/plain": [
       "<Figure size 432x288 with 2 Axes>"
      ]
     },
     "metadata": {
      "image/png": {
       "height": 252,
       "width": 381
      },
      "needs_background": "light"
     },
     "output_type": "display_data"
    }
   ],
   "source": [
    "# affine parameter\n",
    "orbit_time_param = [*t_bkw[::-1], *t_fwd] << u.Myr\n",
    "\n",
    "# create single catalog\n",
    "orbit_catalog = coords.concatenate([sc_bkw.frame, sc_fwd.frame])\n",
    "\n",
    "# plot\n",
    "line = plt.scatter(orbit_catalog.ra.value, orbit_catalog.dec.value,\n",
    "                   c=orbit_time_param.value, s=0.1)\n",
    "plt.scatter(vxvv[\"RA\"], vxvv[\"DE\"], s=10)\n",
    "plt.colorbar(line)\n",
    "plt.xlim((225, 242))\n",
    "plt.ylim((-10, 10))\n",
    "plt.show();"
   ]
  },
  {
   "cell_type": "markdown",
   "metadata": {},
   "source": [
    "Construct an orbit reference from from the galpy Orbit."
   ]
  },
  {
   "cell_type": "code",
   "execution_count": 13,
   "metadata": {},
   "outputs": [
    {
     "data": {
      "text/plain": [
       "<OrbitOffsetICRS Frame (potential=[<galpy.potential.PowerSphericalPotentialwCutoff.PowerSphericalPotentialwCutoff object at 0x1180d9090>, <galpy.potential.MiyamotoNagaiPotential.MiyamotoNagaiPotential object at 0x1185afc90>, <galpy.potential.TwoPowerSphericalPotential.NFWPotential object at 0x1185afc50>], afn_bounds=[-100.  100.] Myr, origin=<ICRS Coordinate: (ra, dec, distance) in (deg, deg, kpc)\n",
       "    (229., -0.124, 22.9)\n",
       " (pm_ra_cosdec, pm_dec, radial_velocity) in (mas / yr, mas / yr, km / s)\n",
       "    (-2.296, -2.257, -58.7)>)>"
      ]
     },
     "execution_count": 13,
     "metadata": {},
     "output_type": "execute_result"
    }
   ],
   "source": [
    "frame = starkman_thesis.coordinates.OrbitOffsetFrame.from_galpy_orbit(\n",
    "    orbit=o_fwd, orbit_bkw=o_bkw, frame=\"icrs\", time_unit=u.Myr, method=\"linear\", inverse_track_fn_kw={\"tol\": 1}\n",
    ")\n",
    "\n",
    "frame"
   ]
  },
  {
   "cell_type": "markdown",
   "metadata": {},
   "source": [
    "Transform the coordinates to this reference frame."
   ]
  },
  {
   "cell_type": "code",
   "execution_count": 27,
   "metadata": {},
   "outputs": [
    {
     "data": {
      "text/plain": [
       "<CartesianRepresentation (x, y, z) in kpc\n",
       "    [(-3.76298283, -19.95664599,  3.86126337),\n",
       "     (-3.76465613, -19.95722819,  3.86137322),\n",
       "     (-3.76632935, -19.95781017,  3.86148294), ...,\n",
       "     (-7.72666912,  -3.65762678, -8.35292765),\n",
       "     (-7.72435092,  -3.65622488, -8.35351696),\n",
       "     (-7.72203228,  -3.65482315, -8.35410608)]>"
      ]
     },
     "execution_count": 27,
     "metadata": {},
     "output_type": "execute_result"
    }
   ],
   "source": [
    "orbit_catalog.cartesian.without_differentials()"
   ]
  },
  {
   "cell_type": "code",
   "execution_count": 59,
   "metadata": {},
   "outputs": [
    {
     "data": {
      "text/plain": [
       "<CartesianRepresentation (x, y, z) in kpc\n",
       "    [(1.96962594e-07,  5.39800770e-08, -2.40580916e-09),\n",
       "     (2.03005588e-07,  1.63299532e-08,  2.50166339e-08),\n",
       "     (1.95958514e-07,  5.76543003e-08, -5.16166157e-09),\n",
       "     (1.98126464e-07,  4.92442436e-08,  1.12166816e-09),\n",
       "     (1.97177291e-07,  5.31486403e-08, -1.78456447e-09),\n",
       "     (1.61179436e-07,  1.17894107e-07, -5.37423095e-08),\n",
       "     (1.77231028e-07,  9.83370770e-08, -3.70927254e-08),\n",
       "     (2.02788196e-07,  1.88253560e-08,  2.32355950e-08),\n",
       "     (1.60232653e-07,  1.18842231e-07, -5.45803881e-08),\n",
       "     (2.03121249e-07,  1.49110927e-08,  2.60275647e-08),\n",
       "     (1.43263391e-07,  1.33230677e-07, -6.77770089e-08),\n",
       "     (1.64831972e-07,  1.14056827e-07, -5.03830921e-08),\n",
       "     (1.34624477e-07,  1.39053646e-07, -7.34426951e-08),\n",
       "     (2.04582021e-07, -1.08314261e-08,  4.42143375e-08),\n",
       "     (2.04460525e-07, -8.15894114e-09,  4.23357251e-08),\n",
       "     (1.43736765e-07,  1.32886146e-07, -6.74486893e-08),\n",
       "     (1.94492614e-07,  6.24915093e-08, -8.81691431e-09),\n",
       "     (2.02659838e-07,  2.02050705e-08,  2.22491592e-08)]>"
      ]
     },
     "execution_count": 59,
     "metadata": {},
     "output_type": "execute_result"
    }
   ],
   "source": [
    "from astropy.coordinates import match_coordinates_sky, match_coordinates_3d\n",
    "\n",
    "def catalog_match_track(\n",
    "    coords, catalog, affine_param, adj_sep_sgn=True,\n",
    "):\n",
    "    idx, _, _, = match_coordinates_3d(coords, catalog)\n",
    "    afn = affine_param[idx]\n",
    "\n",
    "    # now project onto plane orthogonal to curve\n",
    "    # TODO more rigorous tangent vector method\n",
    "    cart = catalog.cartesian.without_differentials()  # TODO, not need\n",
    "    tvec = cart[idx + 1] - cart[idx - 1]  # tangent vector\n",
    "    that = tvec / tvec.norm()\n",
    "    \n",
    "    # TODO use astropy matrix utilities, like rotation\n",
    "\n",
    "    # define vectors along curve from central point\n",
    "    delta2 = cart[idx + 1] - cart[idx]\n",
    "    delta1 = cart[idx - 1] - cart[idx]\n",
    "\n",
    "    fac = that.dot(delta1) / that.dot(delta2)\n",
    "\n",
    "    xvec = delta1 - fac * delta2\n",
    "    xhat = xvec / xvec.norm()\n",
    "\n",
    "    yvec = that.cross(xvec)\n",
    "    yhat = yvec / yvec.norm()\n",
    "\n",
    "    # basic projection\n",
    "    # https://en.wikipedia.org/wiki/Vector_projection\n",
    "    x = cart[idx].dot(xhat)\n",
    "    y = cart[idx].dot(yhat)\n",
    "    # and error in projection\n",
    "    d_afn = cart[idx].dot(that)\n",
    "\n",
    "    return xvec\n",
    "#     return afn, x, y, d_afn\n",
    "\n",
    "\n",
    "# /def\n",
    "\n",
    "xvec = catalog_match_track(vxvv_sc, orbit_catalog, orbit_time_param, True)\n",
    "xvec"
   ]
  },
  {
   "cell_type": "code",
   "execution_count": 14,
   "metadata": {},
   "outputs": [
    {
     "ename": "TypeError",
     "evalue": "unsupported operand type(s) for *: 'CartesianRepresentation' and 'CartesianRepresentation'",
     "output_type": "error",
     "traceback": [
      "\u001b[0;31m---------------------------------------------------------------------------\u001b[0m",
      "\u001b[0;31mTypeError\u001b[0m                                 Traceback (most recent call last)",
      "\u001b[0;32m<ipython-input-14-eb04ce027ffa>\u001b[0m in \u001b[0;36m<module>\u001b[0;34m\u001b[0m\n\u001b[0;32m----> 1\u001b[0;31m \u001b[0mnew_c\u001b[0m \u001b[0;34m=\u001b[0m \u001b[0mvxvv_sc\u001b[0m\u001b[0;34m.\u001b[0m\u001b[0mtransform_to\u001b[0m\u001b[0;34m(\u001b[0m\u001b[0mframe\u001b[0m\u001b[0;34m)\u001b[0m\u001b[0;34m\u001b[0m\u001b[0;34m\u001b[0m\u001b[0m\n\u001b[0m\u001b[1;32m      2\u001b[0m \u001b[0mnew_c\u001b[0m\u001b[0;34m\u001b[0m\u001b[0;34m\u001b[0m\u001b[0m\n",
      "\u001b[0;32m~/miniconda3/lib/python3.7/site-packages/astropy/coordinates/sky_coordinate.py\u001b[0m in \u001b[0;36mtransform_to\u001b[0;34m(self, frame, merge_attributes)\u001b[0m\n\u001b[1;32m    440\u001b[0m         \u001b[0;31m# Do the transformation, returning a coordinate frame of the desired\u001b[0m\u001b[0;34m\u001b[0m\u001b[0;34m\u001b[0m\u001b[0;34m\u001b[0m\u001b[0m\n\u001b[1;32m    441\u001b[0m         \u001b[0;31m# final type (not generic).\u001b[0m\u001b[0;34m\u001b[0m\u001b[0;34m\u001b[0m\u001b[0;34m\u001b[0m\u001b[0m\n\u001b[0;32m--> 442\u001b[0;31m         \u001b[0mnew_coord\u001b[0m \u001b[0;34m=\u001b[0m \u001b[0mtrans\u001b[0m\u001b[0;34m(\u001b[0m\u001b[0mself\u001b[0m\u001b[0;34m.\u001b[0m\u001b[0mframe\u001b[0m\u001b[0;34m,\u001b[0m \u001b[0mgeneric_frame\u001b[0m\u001b[0;34m)\u001b[0m\u001b[0;34m\u001b[0m\u001b[0;34m\u001b[0m\u001b[0m\n\u001b[0m\u001b[1;32m    443\u001b[0m \u001b[0;34m\u001b[0m\u001b[0m\n\u001b[1;32m    444\u001b[0m         \u001b[0;31m# Finally make the new SkyCoord object from the `new_coord` and\u001b[0m\u001b[0;34m\u001b[0m\u001b[0;34m\u001b[0m\u001b[0;34m\u001b[0m\u001b[0m\n",
      "\u001b[0;32m~/miniconda3/lib/python3.7/site-packages/astropy/coordinates/transformations.py\u001b[0m in \u001b[0;36m__call__\u001b[0;34m(self, fromcoord, toframe)\u001b[0m\n\u001b[1;32m   1380\u001b[0m \u001b[0;34m\u001b[0m\u001b[0m\n\u001b[1;32m   1381\u001b[0m             \u001b[0mcurr_toframe\u001b[0m \u001b[0;34m=\u001b[0m \u001b[0mt\u001b[0m\u001b[0;34m.\u001b[0m\u001b[0mtosys\u001b[0m\u001b[0;34m(\u001b[0m\u001b[0;34m**\u001b[0m\u001b[0mfrattrs\u001b[0m\u001b[0;34m)\u001b[0m\u001b[0;34m\u001b[0m\u001b[0;34m\u001b[0m\u001b[0m\n\u001b[0;32m-> 1382\u001b[0;31m             \u001b[0mcurr_coord\u001b[0m \u001b[0;34m=\u001b[0m \u001b[0mt\u001b[0m\u001b[0;34m(\u001b[0m\u001b[0mcurr_coord\u001b[0m\u001b[0;34m,\u001b[0m \u001b[0mcurr_toframe\u001b[0m\u001b[0;34m)\u001b[0m\u001b[0;34m\u001b[0m\u001b[0;34m\u001b[0m\u001b[0m\n\u001b[0m\u001b[1;32m   1383\u001b[0m \u001b[0;34m\u001b[0m\u001b[0m\n\u001b[1;32m   1384\u001b[0m         \u001b[0;31m# this is safe even in the case where self.transforms is empty, because\u001b[0m\u001b[0;34m\u001b[0m\u001b[0;34m\u001b[0m\u001b[0;34m\u001b[0m\u001b[0m\n",
      "\u001b[0;32m~/miniconda3/lib/python3.7/site-packages/astropy/coordinates/transformations.py\u001b[0m in \u001b[0;36m__call__\u001b[0;34m(self, fromcoord, toframe)\u001b[0m\n\u001b[1;32m    819\u001b[0m \u001b[0;34m\u001b[0m\u001b[0m\n\u001b[1;32m    820\u001b[0m     \u001b[0;32mdef\u001b[0m \u001b[0m__call__\u001b[0m\u001b[0;34m(\u001b[0m\u001b[0mself\u001b[0m\u001b[0;34m,\u001b[0m \u001b[0mfromcoord\u001b[0m\u001b[0;34m,\u001b[0m \u001b[0mtoframe\u001b[0m\u001b[0;34m)\u001b[0m\u001b[0;34m:\u001b[0m\u001b[0;34m\u001b[0m\u001b[0;34m\u001b[0m\u001b[0m\n\u001b[0;32m--> 821\u001b[0;31m         \u001b[0mres\u001b[0m \u001b[0;34m=\u001b[0m \u001b[0mself\u001b[0m\u001b[0;34m.\u001b[0m\u001b[0mfunc\u001b[0m\u001b[0;34m(\u001b[0m\u001b[0mfromcoord\u001b[0m\u001b[0;34m,\u001b[0m \u001b[0mtoframe\u001b[0m\u001b[0;34m)\u001b[0m\u001b[0;34m\u001b[0m\u001b[0;34m\u001b[0m\u001b[0m\n\u001b[0m\u001b[1;32m    822\u001b[0m         \u001b[0;32mif\u001b[0m \u001b[0;32mnot\u001b[0m \u001b[0misinstance\u001b[0m\u001b[0;34m(\u001b[0m\u001b[0mres\u001b[0m\u001b[0;34m,\u001b[0m \u001b[0mself\u001b[0m\u001b[0;34m.\u001b[0m\u001b[0mtosys\u001b[0m\u001b[0;34m)\u001b[0m\u001b[0;34m:\u001b[0m\u001b[0;34m\u001b[0m\u001b[0;34m\u001b[0m\u001b[0m\n\u001b[1;32m    823\u001b[0m             raise TypeError(f'the transformation function yielded {res} but '\n",
      "\u001b[0;32m~/Documents/Thesis/starkman_thesis/coordinates/builtin_frames/orbitoffset.py\u001b[0m in \u001b[0;36mreference_to_orbitoffset\u001b[0;34m(reference_coord, orbitoffset_frame, **kwargs)\u001b[0m\n\u001b[1;32m    212\u001b[0m         \"\"\"\n\u001b[1;32m    213\u001b[0m         \u001b[0mafn_name\u001b[0m \u001b[0;34m=\u001b[0m \u001b[0mkwargs\u001b[0m\u001b[0;34m.\u001b[0m\u001b[0mpop\u001b[0m\u001b[0;34m(\u001b[0m\u001b[0;34m\"afn_name\"\u001b[0m\u001b[0;34m,\u001b[0m \u001b[0;32mNone\u001b[0m\u001b[0;34m)\u001b[0m\u001b[0;34m\u001b[0m\u001b[0;34m\u001b[0m\u001b[0m\n\u001b[0;32m--> 214\u001b[0;31m         \u001b[0mafn\u001b[0m\u001b[0;34m,\u001b[0m \u001b[0mx\u001b[0m\u001b[0;34m,\u001b[0m \u001b[0my\u001b[0m\u001b[0;34m,\u001b[0m \u001b[0md_afn\u001b[0m \u001b[0;34m=\u001b[0m \u001b[0mtrack_fn\u001b[0m\u001b[0;34m(\u001b[0m\u001b[0mreference_coord\u001b[0m\u001b[0;34m,\u001b[0m \u001b[0;34m**\u001b[0m\u001b[0mkwargs\u001b[0m\u001b[0;34m)\u001b[0m\u001b[0;34m\u001b[0m\u001b[0;34m\u001b[0m\u001b[0m\n\u001b[0m\u001b[1;32m    215\u001b[0m \u001b[0;34m\u001b[0m\u001b[0m\n\u001b[1;32m    216\u001b[0m         rep = OrbitOffsetUnitRepresentation(\n",
      "\u001b[0;32m~/Documents/Thesis/starkman_thesis/coordinates/builtin_frames/orbitoffset.py\u001b[0m in \u001b[0;36mtrack_fn\u001b[0;34m(coords, tol, init_sampler)\u001b[0m\n\u001b[1;32m    673\u001b[0m                         \u001b[0mcatalog\u001b[0m\u001b[0;34m=\u001b[0m\u001b[0mcatalog\u001b[0m\u001b[0;34m,\u001b[0m\u001b[0;34m\u001b[0m\u001b[0;34m\u001b[0m\u001b[0m\n\u001b[1;32m    674\u001b[0m                         \u001b[0maffine_param\u001b[0m\u001b[0;34m=\u001b[0m\u001b[0m_aff\u001b[0m\u001b[0;34m,\u001b[0m\u001b[0;34m\u001b[0m\u001b[0;34m\u001b[0m\u001b[0m\n\u001b[0;32m--> 675\u001b[0;31m                         \u001b[0madj_sep_sgn\u001b[0m\u001b[0;34m=\u001b[0m\u001b[0;32mTrue\u001b[0m\u001b[0;34m,\u001b[0m\u001b[0;34m\u001b[0m\u001b[0;34m\u001b[0m\u001b[0m\n\u001b[0m\u001b[1;32m    676\u001b[0m                     )\n\u001b[1;32m    677\u001b[0m                 \u001b[0;32melse\u001b[0m\u001b[0;34m:\u001b[0m  \u001b[0;31m# TODO actual minimization\u001b[0m\u001b[0;34m\u001b[0m\u001b[0;34m\u001b[0m\u001b[0m\n",
      "\u001b[0;32m~/Documents/Thesis/starkman_thesis/coordinates/utils.py\u001b[0m in \u001b[0;36mcatalog_match_track\u001b[0;34m(coords, catalog, affine_param, adj_sep_sgn)\u001b[0m\n\u001b[1;32m    249\u001b[0m     \u001b[0mcart\u001b[0m \u001b[0;34m=\u001b[0m \u001b[0mcatalog\u001b[0m\u001b[0;34m.\u001b[0m\u001b[0mcartesian\u001b[0m\u001b[0;34m\u001b[0m\u001b[0;34m\u001b[0m\u001b[0m\n\u001b[1;32m    250\u001b[0m     \u001b[0mtvec\u001b[0m \u001b[0;34m=\u001b[0m \u001b[0mcart\u001b[0m\u001b[0;34m[\u001b[0m\u001b[0midx\u001b[0m \u001b[0;34m+\u001b[0m \u001b[0;36m1\u001b[0m\u001b[0;34m]\u001b[0m \u001b[0;34m-\u001b[0m \u001b[0mcart\u001b[0m\u001b[0;34m[\u001b[0m\u001b[0midx\u001b[0m \u001b[0;34m-\u001b[0m \u001b[0;36m1\u001b[0m\u001b[0;34m]\u001b[0m  \u001b[0;31m# tangent vector\u001b[0m\u001b[0;34m\u001b[0m\u001b[0;34m\u001b[0m\u001b[0m\n\u001b[0;32m--> 251\u001b[0;31m     \u001b[0mthat\u001b[0m \u001b[0;34m=\u001b[0m \u001b[0mtvec\u001b[0m \u001b[0;34m/\u001b[0m \u001b[0mnp\u001b[0m\u001b[0;34m.\u001b[0m\u001b[0mlinalg\u001b[0m\u001b[0;34m.\u001b[0m\u001b[0mnorm\u001b[0m\u001b[0;34m(\u001b[0m\u001b[0mtvec\u001b[0m\u001b[0;34m)\u001b[0m\u001b[0;34m\u001b[0m\u001b[0;34m\u001b[0m\u001b[0m\n\u001b[0m\u001b[1;32m    252\u001b[0m \u001b[0;34m\u001b[0m\u001b[0m\n\u001b[1;32m    253\u001b[0m     \u001b[0;31m# define vectors along curve from central point\u001b[0m\u001b[0;34m\u001b[0m\u001b[0;34m\u001b[0m\u001b[0;34m\u001b[0m\u001b[0m\n",
      "\u001b[0;32m<__array_function__ internals>\u001b[0m in \u001b[0;36mnorm\u001b[0;34m(*args, **kwargs)\u001b[0m\n",
      "\u001b[0;32m~/miniconda3/lib/python3.7/site-packages/numpy/linalg/linalg.py\u001b[0m in \u001b[0;36mnorm\u001b[0;34m(x, ord, axis, keepdims)\u001b[0m\n\u001b[1;32m   2474\u001b[0m                 \u001b[0msqnorm\u001b[0m \u001b[0;34m=\u001b[0m \u001b[0mdot\u001b[0m\u001b[0;34m(\u001b[0m\u001b[0mx\u001b[0m\u001b[0;34m.\u001b[0m\u001b[0mreal\u001b[0m\u001b[0;34m,\u001b[0m \u001b[0mx\u001b[0m\u001b[0;34m.\u001b[0m\u001b[0mreal\u001b[0m\u001b[0;34m)\u001b[0m \u001b[0;34m+\u001b[0m \u001b[0mdot\u001b[0m\u001b[0;34m(\u001b[0m\u001b[0mx\u001b[0m\u001b[0;34m.\u001b[0m\u001b[0mimag\u001b[0m\u001b[0;34m,\u001b[0m \u001b[0mx\u001b[0m\u001b[0;34m.\u001b[0m\u001b[0mimag\u001b[0m\u001b[0;34m)\u001b[0m\u001b[0;34m\u001b[0m\u001b[0;34m\u001b[0m\u001b[0m\n\u001b[1;32m   2475\u001b[0m             \u001b[0;32melse\u001b[0m\u001b[0;34m:\u001b[0m\u001b[0;34m\u001b[0m\u001b[0;34m\u001b[0m\u001b[0m\n\u001b[0;32m-> 2476\u001b[0;31m                 \u001b[0msqnorm\u001b[0m \u001b[0;34m=\u001b[0m \u001b[0mdot\u001b[0m\u001b[0;34m(\u001b[0m\u001b[0mx\u001b[0m\u001b[0;34m,\u001b[0m \u001b[0mx\u001b[0m\u001b[0;34m)\u001b[0m\u001b[0;34m\u001b[0m\u001b[0;34m\u001b[0m\u001b[0m\n\u001b[0m\u001b[1;32m   2477\u001b[0m             \u001b[0mret\u001b[0m \u001b[0;34m=\u001b[0m \u001b[0msqrt\u001b[0m\u001b[0;34m(\u001b[0m\u001b[0msqnorm\u001b[0m\u001b[0;34m)\u001b[0m\u001b[0;34m\u001b[0m\u001b[0;34m\u001b[0m\u001b[0m\n\u001b[1;32m   2478\u001b[0m             \u001b[0;32mif\u001b[0m \u001b[0mkeepdims\u001b[0m\u001b[0;34m:\u001b[0m\u001b[0;34m\u001b[0m\u001b[0;34m\u001b[0m\u001b[0m\n",
      "\u001b[0;32m<__array_function__ internals>\u001b[0m in \u001b[0;36mdot\u001b[0;34m(*args, **kwargs)\u001b[0m\n",
      "\u001b[0;31mTypeError\u001b[0m: unsupported operand type(s) for *: 'CartesianRepresentation' and 'CartesianRepresentation'"
     ]
    }
   ],
   "source": [
    "new_c = vxvv_sc.transform_to(frame)\n",
    "new_c"
   ]
  },
  {
   "cell_type": "code",
   "execution_count": null,
   "metadata": {},
   "outputs": [],
   "source": [
    "plt.scatter(new_c.afn, new_c.sep)\n",
    "plt.xlabel(f\"time [{new_c.afn.unit}]\")\n",
    "plt.ylabel(f\"angular separation [{new_c.sep.unit}]\")\n",
    "plt.show();"
   ]
  },
  {
   "cell_type": "markdown",
   "metadata": {},
   "source": [
    "And this can be transformed back"
   ]
  },
  {
   "cell_type": "code",
   "execution_count": null,
   "metadata": {},
   "outputs": [],
   "source": [
    "back_c = new_c.transform_to(\"icrs\")\n",
    "\n",
    "plt.figure(figsize=(10, 5))\n",
    "plt.scatter(back_c.ra, back_c.dec, c=\"r\")\n",
    "line = plt.scatter(orbit_catalog.ra.value, orbit_catalog.dec.value,\n",
    "                   c=orbit_time_param.value, s=0.1)\n",
    "plt.scatter(vxvv[\"RA\"], vxvv[\"DE\"], s=10)\n",
    "plt.xlim((225, 242))\n",
    "plt.ylim((-10, 10))\n",
    "plt.show();"
   ]
  },
  {
   "cell_type": "code",
   "execution_count": null,
   "metadata": {},
   "outputs": [],
   "source": [
    "vxvv_sc\n",
    "back_c"
   ]
  },
  {
   "cell_type": "markdown",
   "metadata": {},
   "source": [
    "## Transforming Between OrbitSkyOffsetFrames"
   ]
  },
  {
   "cell_type": "markdown",
   "metadata": {},
   "source": [
    "it works."
   ]
  },
  {
   "cell_type": "code",
   "execution_count": null,
   "metadata": {},
   "outputs": [],
   "source": [
    "pos2 = pos.vxvv.replicate(copy=True)\n",
    "pos2.data.x[()] = pos2.data.x + (1 * u.kpc)\n",
    "pos2.cache.clear()\n",
    "\n",
    "pos2 = SkyCoord(pos2)"
   ]
  },
  {
   "cell_type": "code",
   "execution_count": null,
   "metadata": {},
   "outputs": [],
   "source": [
    "# forward\n",
    "o2_fwd = Orbit(vxvv=pos2)\n",
    "t2_fwd = np.linspace(0, 100, num=10000) * u.Myr\n",
    "o2_fwd.integrate(t=t2_fwd, pot=MWPotential2014)\n",
    "sc2_fwd = o2_fwd.SkyCoord(t2_fwd)\n",
    "\n",
    "# backward\n",
    "o2_bkw = Orbit(vxvv=pos2)\n",
    "t2_bkw = np.linspace(0, -100, num=10000) * u.Myr\n",
    "o2_bkw.integrate(t=t2_bkw, pot=MWPotential2014)\n",
    "sc2_bkw = o2_bkw.SkyCoord(t_bkw[::-1])"
   ]
  },
  {
   "cell_type": "code",
   "execution_count": null,
   "metadata": {},
   "outputs": [],
   "source": [
    "plt.figure(figsize=(10, 5))\n",
    "o_fwd.plot(d1='ra', d2='dec', c='k', overplot=True)\n",
    "o_bkw.plot(d1='ra', d2='dec', c='k', overplot=True)\n",
    "\n",
    "o2_fwd.plot(d1='ra', d2='dec', c='k', ls=\"--\", overplot=True)\n",
    "o2_bkw.plot(d1='ra', d2='dec', c='k', ls=\"--\", overplot=True)\n",
    "\n",
    "plt.scatter(data[\"RA\"], data[\"DE\"], s=20, c='blue')\n",
    "plt.xlim((225, 242))\n",
    "plt.ylim((-10, 10))\n",
    "plt.show();"
   ]
  },
  {
   "cell_type": "code",
   "execution_count": null,
   "metadata": {},
   "outputs": [],
   "source": [
    "frame2 = starkman_thesis.coordinates.OrbitSkyOffsetFrame.from_galpy_orbit(\n",
    "    orbit=o2_fwd, orbit_bkw=o2_bkw, frame=\"icrs\", time_unit=u.Myr\n",
    ")\n",
    "\n",
    "frame2"
   ]
  },
  {
   "cell_type": "code",
   "execution_count": null,
   "metadata": {},
   "outputs": [],
   "source": [
    "new_c.transform_to(frame)"
   ]
  },
  {
   "cell_type": "code",
   "execution_count": null,
   "metadata": {},
   "outputs": [],
   "source": [
    "new_c2 = new_c.transform_to(frame2)\n",
    "new_c2"
   ]
  },
  {
   "cell_type": "code",
   "execution_count": null,
   "metadata": {},
   "outputs": [],
   "source": [
    "# new_c2.frame.data.time"
   ]
  },
  {
   "cell_type": "code",
   "execution_count": null,
   "metadata": {},
   "outputs": [],
   "source": [
    "plt.scatter(new_c.afn, new_c.sep, alpha=0.5, label=\"Orbit 1\")\n",
    "plt.scatter(new_c2.afn, new_c2.sep, label=\"Orbit 2\")\n",
    "plt.xlabel(f\"time [{new_c2.afn.unit}]\")\n",
    "plt.ylabel(f\"angular separation [{new_c2.sep.unit}]\")\n",
    "\n",
    "plt.tight_layout()\n",
    "plt.legend()\n",
    "plt.show();"
   ]
  },
  {
   "cell_type": "code",
   "execution_count": null,
   "metadata": {},
   "outputs": [],
   "source": [
    "back_c2 = new_c2.transform_to(\"icrs\")\n",
    "\n",
    "plt.figure(figsize=(10, 5))\n",
    "plt.scatter(back_c2.ra, back_c2.dec, c=\"r\")\n",
    "line = plt.scatter(orbit_catalog.ra.value, orbit_catalog.dec.value,\n",
    "                   c=orbit_time_param.value, s=0.1)\n",
    "plt.scatter(vxvv[\"RA\"], vxvv[\"DE\"], s=10)\n",
    "\n",
    "o2_fwd.plot(d1='ra', d2='dec', c='k', ls=\"--\", overplot=True)\n",
    "o2_bkw.plot(d1='ra', d2='dec', c='k', ls=\"--\", overplot=True)\n",
    "plt.show();"
   ]
  },
  {
   "cell_type": "markdown",
   "metadata": {},
   "source": [
    "## Some Details"
   ]
  },
  {
   "cell_type": "code",
   "execution_count": null,
   "metadata": {},
   "outputs": [],
   "source": [
    "# Attributes\n",
    "pa = starkman_thesis.coordinates.attributes.PotentialAttribute()\n",
    "pa.convert_input(MWPotential2014[0])"
   ]
  },
  {
   "cell_type": "code",
   "execution_count": null,
   "metadata": {},
   "outputs": [],
   "source": [
    "# representations\n",
    "rep = starkman_thesis.coordinates.representations.OrbitSkyOffsetRepresentation(\n",
    "    10*u.Myr, 2*u.deg, coords.Distance(parallax=2*u.mas), afn_name=\"time\"\n",
    ")\n",
    "rep\n",
    "\n",
    "rep.time"
   ]
  },
  {
   "cell_type": "code",
   "execution_count": null,
   "metadata": {},
   "outputs": [],
   "source": [
    "# from astropy.coordinates import match_coordinates_sky\n",
    "\n",
    "# idx, sep2d, _, = match_coordinates_sky(\n",
    "#     vxvv_sc, orbit_catalog\n",
    "# )\n",
    "# time = orbit_time_param[idx]\n",
    "# print(idx)\n",
    "\n",
    "# sub = [5, 6]\n",
    "# sidx = idx[sub]\n",
    "# plt.figure(figsize=(10,4))\n",
    "# plt.scatter(orbit_catalog[sidx].ra, orbit_catalog[sidx].dec, c=range(len(vxvv_sc[sub])), vmax=len(vxvv_sc[sub]), s=10)\n",
    "# plt.scatter(orbit_catalog[sidx+10].ra, orbit_catalog[sidx+10].dec, c=\"k\", s=5)\n",
    "# plt.scatter(vxvv_sc[sub].ra, vxvv_sc[sub].dec)\n",
    "# plt.colorbar()\n",
    "\n",
    "# theta1 = orbit_catalog[idx].position_angle(vxvv_sc) * u.dimensionless_unscaled  # convert to quantity list\n",
    "# theta2 = orbit_catalog[idx+1].position_angle(vxvv_sc) * u.dimensionless_unscaled  # convert to quantity list\n",
    "\n",
    "# sep2d[sub] *= (theta2[sub].value - theta1[sub].value)\n",
    "# print(sep2d[sub])\n",
    "\n",
    "# plt.show();"
   ]
  },
  {
   "cell_type": "code",
   "execution_count": null,
   "metadata": {},
   "outputs": [],
   "source": [
    "import astropy\n",
    "astropy._yourfuture(\"2000-01-01\")"
   ]
  }
 ],
 "metadata": {
  "kernelspec": {
   "display_name": "Python 3.7.3 64-bit ('base': conda)",
   "language": "python",
   "name": "python37364bitbaseconda6578cf6fdcb7435fb34bfe59e8478bf6"
  },
  "language_info": {
   "codemirror_mode": {
    "name": "ipython",
    "version": 3
   },
   "file_extension": ".py",
   "mimetype": "text/x-python",
   "name": "python",
   "nbconvert_exporter": "python",
   "pygments_lexer": "ipython3",
   "version": "3.7.4"
  }
 },
 "nbformat": 4,
 "nbformat_minor": 4
}
